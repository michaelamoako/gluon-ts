{
 "cells": [
  {
   "cell_type": "code",
   "execution_count": 1,
   "metadata": {},
   "outputs": [
    {
     "name": "stdout",
     "output_type": "stream",
     "text": [
      "Requirement already up-to-date: pip in c:\\users\\miamoako\\appdata\\local\\packages\\pythonsoftwarefoundation.python.3.8_qbz5n2kfra8p0\\localcache\\local-packages\\python38\\site-packages (20.2.4)\n",
      "Note: you may need to restart the kernel to use updated packages.\n"
     ]
    }
   ],
   "source": [
    "pip install --upgrade pip"
   ]
  },
  {
   "cell_type": "code",
   "execution_count": 2,
   "metadata": {},
   "outputs": [
    {
     "name": "stdout",
     "output_type": "stream",
     "text": [
      "Requirement already up-to-date: mxnet==1.6 in c:\\users\\miamoako\\appdata\\local\\packages\\pythonsoftwarefoundation.python.3.8_qbz5n2kfra8p0\\localcache\\local-packages\\python38\\site-packages (1.6.0)\n",
      "Requirement already up-to-date: gluonts in c:\\users\\miamoako\\appdata\\local\\packages\\pythonsoftwarefoundation.python.3.8_qbz5n2kfra8p0\\localcache\\local-packages\\python38\\site-packages (0.5.2)\n",
      "Requirement already satisfied, skipping upgrade: requests<2.19.0,>=2.18.4 in c:\\users\\miamoako\\appdata\\local\\packages\\pythonsoftwarefoundation.python.3.8_qbz5n2kfra8p0\\localcache\\local-packages\\python38\\site-packages (from mxnet==1.6) (2.18.4)\n",
      "Requirement already satisfied, skipping upgrade: numpy<1.17.0,>=1.8.2 in c:\\users\\miamoako\\appdata\\local\\packages\\pythonsoftwarefoundation.python.3.8_qbz5n2kfra8p0\\localcache\\local-packages\\python38\\site-packages (from mxnet==1.6) (1.16.6)\n",
      "Requirement already satisfied, skipping upgrade: graphviz<0.9.0,>=0.8.1 in c:\\users\\miamoako\\appdata\\local\\packages\\pythonsoftwarefoundation.python.3.8_qbz5n2kfra8p0\\localcache\\local-packages\\python38\\site-packages (from mxnet==1.6) (0.8.4)\n",
      "Requirement already satisfied, skipping upgrade: pydantic~=1.1 in c:\\users\\miamoako\\appdata\\local\\packages\\pythonsoftwarefoundation.python.3.8_qbz5n2kfra8p0\\localcache\\local-packages\\python38\\site-packages (from gluonts) (1.7.2)\n",
      "Requirement already satisfied, skipping upgrade: tqdm~=4.23 in c:\\users\\miamoako\\appdata\\local\\packages\\pythonsoftwarefoundation.python.3.8_qbz5n2kfra8p0\\localcache\\local-packages\\python38\\site-packages (from gluonts) (4.40.2)\n",
      "Requirement already satisfied, skipping upgrade: holidays<0.10,>=0.9 in c:\\users\\miamoako\\appdata\\local\\packages\\pythonsoftwarefoundation.python.3.8_qbz5n2kfra8p0\\localcache\\local-packages\\python38\\site-packages (from gluonts) (0.9.12)\n",
      "Requirement already satisfied, skipping upgrade: ujson~=1.35 in c:\\users\\miamoako\\appdata\\local\\packages\\pythonsoftwarefoundation.python.3.8_qbz5n2kfra8p0\\localcache\\local-packages\\python38\\site-packages (from gluonts) (1.35)\n",
      "Requirement already satisfied, skipping upgrade: pandas<1.1,>=1.0 in c:\\users\\miamoako\\appdata\\local\\packages\\pythonsoftwarefoundation.python.3.8_qbz5n2kfra8p0\\localcache\\local-packages\\python38\\site-packages (from gluonts) (1.0.3)\n",
      "Requirement already satisfied, skipping upgrade: matplotlib~=3.0 in c:\\users\\miamoako\\appdata\\local\\packages\\pythonsoftwarefoundation.python.3.8_qbz5n2kfra8p0\\localcache\\local-packages\\python38\\site-packages (from gluonts) (3.3.2)\n",
      "Requirement already satisfied, skipping upgrade: certifi>=2017.4.17 in c:\\users\\miamoako\\appdata\\local\\packages\\pythonsoftwarefoundation.python.3.8_qbz5n2kfra8p0\\localcache\\local-packages\\python38\\site-packages (from requests<2.19.0,>=2.18.4->mxnet==1.6) (2020.6.20)\n",
      "Requirement already satisfied, skipping upgrade: urllib3<1.23,>=1.21.1 in c:\\users\\miamoako\\appdata\\local\\packages\\pythonsoftwarefoundation.python.3.8_qbz5n2kfra8p0\\localcache\\local-packages\\python38\\site-packages (from requests<2.19.0,>=2.18.4->mxnet==1.6) (1.22)\n",
      "Requirement already satisfied, skipping upgrade: chardet<3.1.0,>=3.0.2 in c:\\users\\miamoako\\appdata\\local\\packages\\pythonsoftwarefoundation.python.3.8_qbz5n2kfra8p0\\localcache\\local-packages\\python38\\site-packages (from requests<2.19.0,>=2.18.4->mxnet==1.6) (3.0.4)\n",
      "Requirement already satisfied, skipping upgrade: idna<2.7,>=2.5 in c:\\users\\miamoako\\appdata\\local\\packages\\pythonsoftwarefoundation.python.3.8_qbz5n2kfra8p0\\localcache\\local-packages\\python38\\site-packages (from requests<2.19.0,>=2.18.4->mxnet==1.6) (2.6)\n",
      "Requirement already satisfied, skipping upgrade: six in c:\\users\\miamoako\\appdata\\local\\packages\\pythonsoftwarefoundation.python.3.8_qbz5n2kfra8p0\\localcache\\local-packages\\python38\\site-packages (from holidays<0.10,>=0.9->gluonts) (1.12.0)\n",
      "Requirement already satisfied, skipping upgrade: python-dateutil in c:\\users\\miamoako\\appdata\\local\\packages\\pythonsoftwarefoundation.python.3.8_qbz5n2kfra8p0\\localcache\\local-packages\\python38\\site-packages (from holidays<0.10,>=0.9->gluonts) (2.8.1)\n",
      "Requirement already satisfied, skipping upgrade: pytz>=2017.2 in c:\\users\\miamoako\\appdata\\local\\packages\\pythonsoftwarefoundation.python.3.8_qbz5n2kfra8p0\\localcache\\local-packages\\python38\\site-packages (from pandas<1.1,>=1.0->gluonts) (2019.3)\n",
      "Requirement already satisfied, skipping upgrade: cycler>=0.10 in c:\\users\\miamoako\\appdata\\local\\packages\\pythonsoftwarefoundation.python.3.8_qbz5n2kfra8p0\\localcache\\local-packages\\python38\\site-packages (from matplotlib~=3.0->gluonts) (0.10.0)\n",
      "Requirement already satisfied, skipping upgrade: pillow>=6.2.0 in c:\\users\\miamoako\\appdata\\local\\packages\\pythonsoftwarefoundation.python.3.8_qbz5n2kfra8p0\\localcache\\local-packages\\python38\\site-packages (from matplotlib~=3.0->gluonts) (6.2.1)\n",
      "Requirement already satisfied, skipping upgrade: pyparsing!=2.0.4,!=2.1.2,!=2.1.6,>=2.0.3 in c:\\users\\miamoako\\appdata\\local\\packages\\pythonsoftwarefoundation.python.3.8_qbz5n2kfra8p0\\localcache\\local-packages\\python38\\site-packages (from matplotlib~=3.0->gluonts) (2.4.7)\n",
      "Requirement already satisfied, skipping upgrade: kiwisolver>=1.0.1 in c:\\users\\miamoako\\appdata\\local\\packages\\pythonsoftwarefoundation.python.3.8_qbz5n2kfra8p0\\localcache\\local-packages\\python38\\site-packages (from matplotlib~=3.0->gluonts) (1.2.0)\n",
      "Note: you may need to restart the kernel to use updated packages.\n"
     ]
    }
   ],
   "source": [
    "pip install --upgrade mxnet==1.6 gluonts"
   ]
  },
  {
   "cell_type": "code",
   "execution_count": 1,
   "metadata": {},
   "outputs": [
    {
     "name": "stdout",
     "output_type": "stream",
     "text": [
      "Collecting shapNote: you may need to restart the kernel to use updated packages.\n",
      "  Using cached shap-0.36.0-cp38-cp38-win_amd64.whl (370 kB)\n",
      "Requirement already satisfied: tqdm>4.25.0 in c:\\users\\miamoako\\appdata\\local\\packages\\pythonsoftwarefoundation.python.3.8_qbz5n2kfra8p0\\localcache\\local-packages\\python38\\site-packages (from shap) (4.40.2)\n",
      "Requirement already satisfied: numpy in c:\\users\\miamoako\\appdata\\local\\packages\\pythonsoftwarefoundation.python.3.8_qbz5n2kfra8p0\\localcache\\local-packages\\python38\\site-packages (from shap) (1.16.6)\n",
      "Requirement already satisfied: numba in c:\\users\\miamoako\\appdata\\local\\packages\\pythonsoftwarefoundation.python.3.8_qbz5n2kfra8p0\\localcache\\local-packages\\python38\\site-packages (from shap) (0.51.2)\n",
      "Requirement already satisfied: pandas in c:\\users\\miamoako\\appdata\\local\\packages\\pythonsoftwarefoundation.python.3.8_qbz5n2kfra8p0\\localcache\\local-packages\\python38\\site-packages (from shap) (1.0.3)\n",
      "\n",
      "Collecting scikit-learn\n",
      "  Using cached scikit_learn-0.23.2-cp38-cp38-win_amd64.whl (6.8 MB)\n",
      "Requirement already satisfied: scipy in c:\\users\\miamoako\\appdata\\local\\packages\\pythonsoftwarefoundation.python.3.8_qbz5n2kfra8p0\\localcache\\local-packages\\python38\\site-packages (from shap) (1.4.1)\n",
      "Requirement already satisfied: slicer in c:\\users\\miamoako\\appdata\\local\\packages\\pythonsoftwarefoundation.python.3.8_qbz5n2kfra8p0\\localcache\\local-packages\\python38\\site-packages (from shap) (0.0.4)\n",
      "Requirement already satisfied: llvmlite<0.35,>=0.34.0.dev0 in c:\\users\\miamoako\\appdata\\local\\packages\\pythonsoftwarefoundation.python.3.8_qbz5n2kfra8p0\\localcache\\local-packages\\python38\\site-packages (from numba->shap) (0.34.0)\n",
      "Requirement already satisfied: setuptools in c:\\program files\\windowsapps\\pythonsoftwarefoundation.python.3.8_3.8.1776.0_x64__qbz5n2kfra8p0\\lib\\site-packages (from numba->shap) (49.2.1)\n",
      "Requirement already satisfied: python-dateutil>=2.6.1 in c:\\users\\miamoako\\appdata\\local\\packages\\pythonsoftwarefoundation.python.3.8_qbz5n2kfra8p0\\localcache\\local-packages\\python38\\site-packages (from pandas->shap) (2.8.1)\n",
      "Requirement already satisfied: pytz>=2017.2 in c:\\users\\miamoako\\appdata\\local\\packages\\pythonsoftwarefoundation.python.3.8_qbz5n2kfra8p0\\localcache\\local-packages\\python38\\site-packages (from pandas->shap) (2019.3)\n",
      "Requirement already satisfied: threadpoolctl>=2.0.0 in c:\\users\\miamoako\\appdata\\local\\packages\\pythonsoftwarefoundation.python.3.8_qbz5n2kfra8p0\\localcache\\local-packages\\python38\\site-packages (from scikit-learn->shap) (2.1.0)\n",
      "Requirement already satisfied: joblib>=0.11 in c:\\users\\miamoako\\appdata\\local\\packages\\pythonsoftwarefoundation.python.3.8_qbz5n2kfra8p0\\localcache\\local-packages\\python38\\site-packages (from scikit-learn->shap) (0.14.1)\n",
      "Requirement already satisfied: six>=1.5 in c:\\users\\miamoako\\appdata\\local\\packages\\pythonsoftwarefoundation.python.3.8_qbz5n2kfra8p0\\localcache\\local-packages\\python38\\site-packages (from python-dateutil>=2.6.1->pandas->shap) (1.12.0)\n",
      "Installing collected packages: scikit-learn, shap\n",
      "Successfully installed scikit-learn-0.23.2 shap-0.36.0\n"
     ]
    }
   ],
   "source": [
    "pip install shap "
   ]
  },
  {
   "cell_type": "code",
   "execution_count": 3,
   "metadata": {},
   "outputs": [],
   "source": [
    "import sklearn\n",
    "import shap "
   ]
  },
  {
   "cell_type": "code",
   "execution_count": 63,
   "metadata": {},
   "outputs": [
    {
     "name": "stdout",
     "output_type": "stream",
     "text": [
      "                     value\n",
      "timestamp                 \n",
      "2015-02-26 21:42:53     57\n",
      "2015-02-26 21:47:53     43\n",
      "2015-02-26 21:52:53     55\n",
      "2015-02-26 21:57:53     64\n",
      "2015-02-26 22:02:53     93\n",
      "...                    ...\n",
      "2015-04-22 20:32:53     51\n",
      "2015-04-22 20:37:53     54\n",
      "2015-04-22 20:42:53     46\n",
      "2015-04-22 20:47:53     56\n",
      "2015-04-22 20:52:53     50\n",
      "\n",
      "[15831 rows x 1 columns]\n"
     ]
    }
   ],
   "source": [
    "import pandas as pd\n",
    "import datetime\n",
    "url = \"https://raw.githubusercontent.com/numenta/NAB/master/data/realTweets/Twitter_volume_AMZN.csv\"\n",
    "df = pd.read_csv(url, header=0, index_col=0)\n",
    "print(df)"
   ]
  },
  {
   "cell_type": "code",
   "execution_count": 7,
   "metadata": {},
   "outputs": [
    {
     "name": "stderr",
     "output_type": "stream",
     "text": [
      "FixedFormatter should only be used together with FixedLocator\n"
     ]
    },
    {
     "data": {
      "image/png": "[encoded data removed]",
      "text/plain": [
       "<Figure size 432x288 with 1 Axes>"
      ]
     },
     "metadata": {
      "needs_background": "light"
     },
     "output_type": "display_data"
    }
   ],
   "source": [
    "import matplotlib.pyplot as plt\n",
    "df[:100].plot(linewidth=2)\n",
    "plt.grid(which='both')\n",
    "plt.show()"
   ]
  },
  {
   "cell_type": "code",
   "execution_count": 8,
   "metadata": {},
   "outputs": [],
   "source": [
    "from gluonts.dataset.common import ListDataset\n",
    "training_data = ListDataset(\n",
    "    [{\"start\": df.index[0], \"target\": df.value[:\"2015-04-05 00:00:00\"]}],\n",
    "    freq = \"5min\"\n",
    ")"
   ]
  },
  {
   "cell_type": "code",
   "execution_count": null,
   "metadata": {},
   "outputs": [],
   "source": []
  },
  {
   "cell_type": "code",
   "execution_count": 93,
   "metadata": {},
   "outputs": [
    {
     "name": "stdout",
     "output_type": "stream",
     "text": [
      "2015-02-26 21:40:00    57\n",
      "2015-02-26 21:45:00    43\n",
      "2015-02-26 21:50:00    55\n",
      "2015-02-26 21:55:00    64\n",
      "2015-02-26 22:00:00    93\n",
      "                       ..\n",
      "2015-04-04 23:40:00    40\n",
      "2015-04-04 23:45:00    44\n",
      "2015-04-04 23:50:00    61\n",
      "2015-04-04 23:55:00    59\n",
      "2015-04-05 00:00:00    59\n",
      "Freq: 5T, Length: 10685, dtype: int64\n"
     ]
    }
   ],
   "source": [
    "\"\"\"\n",
    "Produce the data above using pandas\n",
    "\"\"\"\n",
    "dti = pd.date_range('2015-02-26 21:40:00', \"2015-04-05 00:00:00\", freq='5min')\n",
    "series = pd.Series((df.value[df.index[i]] for i in range(len(dti))), index=dti)\n",
    "print(series)"
   ]
  },
  {
   "cell_type": "code",
   "execution_count": 95,
   "metadata": {},
   "outputs": [
    {
     "name": "stderr",
     "output_type": "stream",
     "text": [
      "WARNING:root:You have set `num_workers` to a non zero value, however, currently multiprocessing is not supported on windows and therefore`num_workers will be set to 0.\n",
      "  0%|                                                                                           | 0/50 [00:00<?, ?it/s]"
     ]
    },
    {
     "name": "stdout",
     "output_type": "stream",
     "text": [
      "learning rate from ``lr_scheduler`` has been overwritten by ``learning_rate`` in optimizer.\n"
     ]
    },
    {
     "name": "stderr",
     "output_type": "stream",
     "text": [
      "100%|█████████████████████████████████████████████████| 50/50 [00:08<00:00,  5.83it/s, epoch=1/10, avg_epoch_loss=4.39]\n",
      "100%|█████████████████████████████████████████████████| 50/50 [00:08<00:00,  5.84it/s, epoch=2/10, avg_epoch_loss=4.05]\n",
      "100%|█████████████████████████████████████████████████| 50/50 [00:09<00:00,  5.46it/s, epoch=3/10, avg_epoch_loss=4.02]\n",
      "100%|█████████████████████████████████████████████████| 50/50 [00:09<00:00,  5.41it/s, epoch=4/10, avg_epoch_loss=3.98]\n",
      "100%|█████████████████████████████████████████████████| 50/50 [00:08<00:00,  5.68it/s, epoch=5/10, avg_epoch_loss=3.96]\n",
      "100%|█████████████████████████████████████████████████| 50/50 [00:08<00:00,  5.88it/s, epoch=6/10, avg_epoch_loss=3.97]\n",
      "100%|█████████████████████████████████████████████████| 50/50 [00:08<00:00,  5.88it/s, epoch=7/10, avg_epoch_loss=3.97]\n",
      "100%|█████████████████████████████████████████████████| 50/50 [00:08<00:00,  6.05it/s, epoch=8/10, avg_epoch_loss=3.97]\n",
      "100%|█████████████████████████████████████████████████| 50/50 [00:08<00:00,  5.82it/s, epoch=9/10, avg_epoch_loss=3.95]\n",
      "100%|████████████████████████████████████████████████| 50/50 [00:08<00:00,  5.90it/s, epoch=10/10, avg_epoch_loss=3.95]\n"
     ]
    }
   ],
   "source": [
    "from gluonts.model.deepar import DeepAREstimator\n",
    "from gluonts.trainer import Trainer\n",
    "\n",
    "estimator = DeepAREstimator(freq=\"5min\", prediction_length=12, trainer=Trainer(epochs=10))\n",
    "predictor = estimator.train(training_data=training_data)"
   ]
  },
  {
   "cell_type": "markdown",
   "metadata": {},
   "source": [
    "With a 5min interval, we have 12 datapoints within each hour, and 24 hours for each day (288 datapoints for a full day). \n",
    "\n",
    "We look at data from '2015-02-26 21:40:00' to '2015-04-15 00:00:00'\n",
    "There should be 13564 datapoints:\n",
    "\n",
    "2015-02-26 21: 4 datapoints\n",
    "2015-02-26 22, 23: 12 datapoints each\n",
    "Number of days between (2015-02-27 and 2015-04-15): 47 days \n",
    "\n",
    "Given a prediction length of 12 (1 hour), we first plot the last 5 hours (60 datapoints) leading up to the hour of interest. For the hour of midnight on April 15th 2015, we plot the median along with selected confidence intervals (shaded in green)."
   ]
  },
  {
   "cell_type": "code",
   "execution_count": 96,
   "metadata": {},
   "outputs": [
    {
     "name": "stderr",
     "output_type": "stream",
     "text": [
      "WARNING:root:You have set `num_workers` to a non zero value, however, currently multiprocessing is not supported on windows and therefore`num_workers will be set to 0.\n"
     ]
    },
    {
     "name": "stdout",
     "output_type": "stream",
     "text": [
      "2015-04-14 19:00:00     90.0\n",
      "2015-04-14 19:05:00     67.0\n",
      "2015-04-14 19:10:00     93.0\n",
      "2015-04-14 19:15:00     79.0\n",
      "2015-04-14 19:20:00     56.0\n",
      "2015-04-14 19:25:00     57.0\n",
      "2015-04-14 19:30:00     69.0\n",
      "2015-04-14 19:35:00     71.0\n",
      "2015-04-14 19:40:00     76.0\n",
      "2015-04-14 19:45:00     62.0\n",
      "2015-04-14 19:50:00     60.0\n",
      "2015-04-14 19:55:00     59.0\n",
      "2015-04-14 20:00:00    144.0\n",
      "2015-04-14 20:05:00     68.0\n",
      "2015-04-14 20:10:00     71.0\n",
      "2015-04-14 20:15:00     67.0\n",
      "2015-04-14 20:20:00     61.0\n",
      "2015-04-14 20:25:00     77.0\n",
      "2015-04-14 20:30:00     65.0\n",
      "2015-04-14 20:35:00     64.0\n",
      "2015-04-14 20:40:00     65.0\n",
      "2015-04-14 20:45:00     54.0\n",
      "2015-04-14 20:50:00     64.0\n",
      "2015-04-14 20:55:00     53.0\n",
      "2015-04-14 21:00:00     41.0\n",
      "2015-04-14 21:05:00     47.0\n",
      "2015-04-14 21:10:00     63.0\n",
      "2015-04-14 21:15:00     55.0\n",
      "2015-04-14 21:20:00     57.0\n",
      "2015-04-14 21:25:00     72.0\n",
      "2015-04-14 21:30:00     79.0\n",
      "2015-04-14 21:35:00     90.0\n",
      "2015-04-14 21:40:00     81.0\n",
      "2015-04-14 21:45:00     80.0\n",
      "2015-04-14 21:50:00     86.0\n",
      "2015-04-14 21:55:00     82.0\n",
      "2015-04-14 22:00:00     65.0\n",
      "2015-04-14 22:05:00     68.0\n",
      "2015-04-14 22:10:00     57.0\n",
      "2015-04-14 22:15:00     43.0\n",
      "2015-04-14 22:20:00     62.0\n",
      "2015-04-14 22:25:00     60.0\n",
      "2015-04-14 22:30:00     64.0\n",
      "2015-04-14 22:35:00     63.0\n",
      "2015-04-14 22:40:00     48.0\n",
      "2015-04-14 22:45:00     61.0\n",
      "2015-04-14 22:50:00     60.0\n",
      "2015-04-14 22:55:00     40.0\n",
      "2015-04-14 23:00:00     90.0\n",
      "2015-04-14 23:05:00     68.0\n",
      "2015-04-14 23:10:00     44.0\n",
      "2015-04-14 23:15:00     34.0\n",
      "2015-04-14 23:20:00     57.0\n",
      "2015-04-14 23:25:00     45.0\n",
      "2015-04-14 23:30:00     58.0\n",
      "2015-04-14 23:35:00     53.0\n",
      "2015-04-14 23:40:00     75.0\n",
      "2015-04-14 23:45:00     43.0\n",
      "2015-04-14 23:50:00     46.0\n",
      "2015-04-14 23:55:00     52.0\n",
      "Freq: 5T, dtype: float32\n",
      "[50.30365  48.774685 49.21503  47.430424 47.987946 48.228973 50.549892\n",
      " 50.09239  45.097725 40.547424 39.75755  41.172028]\n",
      "2015-02-26 21:40:00    57.0\n",
      "2015-02-26 21:45:00    43.0\n",
      "2015-02-26 21:50:00    55.0\n",
      "2015-02-26 21:55:00    64.0\n",
      "2015-02-26 22:00:00    93.0\n",
      "                       ... \n",
      "2015-04-14 23:35:00    53.0\n",
      "2015-04-14 23:40:00    75.0\n",
      "2015-04-14 23:45:00    43.0\n",
      "2015-04-14 23:50:00    46.0\n",
      "2015-04-14 23:55:00    52.0\n",
      "Freq: 5T, Length: 13564, dtype: float32\n"
     ]
    },
    {
     "data": {
      "image/png": "[encoded data removed]",
      "text/plain": [
       "<Figure size 432x288 with 1 Axes>"
      ]
     },
     "metadata": {
      "needs_background": "light"
     },
     "output_type": "display_data"
    }
   ],
   "source": [
    "test_data = ListDataset(\n",
    "    [{\"start\": df.index[0], \"target\": df.value[:\"2015-04-15 00:00:00\"]}],\n",
    "    freq = \"5min\"\n",
    ")\n",
    "from gluonts.dataset.util import to_pandas\n",
    "#What is in the zip between test_data and predictions? \n",
    "\n",
    "test_data_shap=[]\n",
    "for test_entry, forecast in zip(test_data, predictor.predict(test_data)):\n",
    "    #print (to_pandas(test_entry)[-60:])\n",
    "    test_data_shap = to_pandas(test_entry)\n",
    "    #print(forecast)\n",
    "    #print(forecast.median)\n",
    "    to_pandas(test_entry)[-60:].plot(linewidth=2)\n",
    "    forecast.plot(color='g', prediction_intervals=[50.0,90.0])\n",
    "plt.grid(which='both')\n",
    "print(forecast.median)\n",
    "print(test_data_shap)\n"
   ]
  },
  {
   "cell_type": "code",
   "execution_count": 99,
   "metadata": {},
   "outputs": [
    {
     "name": "stdout",
     "output_type": "stream",
     "text": [
      "DatetimeIndex(['2015-04-15 00:00:00', '2015-04-15 00:05:00',\n",
      "               '2015-04-15 00:10:00', '2015-04-15 00:15:00',\n",
      "               '2015-04-15 00:20:00', '2015-04-15 00:25:00',\n",
      "               '2015-04-15 00:30:00', '2015-04-15 00:35:00',\n",
      "               '2015-04-15 00:40:00', '2015-04-15 00:45:00',\n",
      "               '2015-04-15 00:50:00', '2015-04-15 00:55:00'],\n",
      "              dtype='datetime64[ns]', freq='5T')\n"
     ]
    }
   ],
   "source": [
    "#To use SHAP, we model the above as Tabular data\n",
    "\n",
    "\n",
    "\"\"\"\n",
    "Paramenters: \n",
    "\n",
    "0. model: The model or function being used for predictions \n",
    "1. data: series.to_numpy() to convert time-series training data to numpy array\n",
    "2. Link: 'identity'\n",
    "\"\"\"\n",
    "dti2 = pd.date_range('2015-04-15', periods=12, freq='5min')\n",
    "print(dti2)"
   ]
  },
  {
   "cell_type": "code",
   "execution_count": null,
   "metadata": {},
   "outputs": [],
   "source": []
  },
  {
   "cell_type": "code",
   "execution_count": 112,
   "metadata": {},
   "outputs": [
    {
     "name": "stdout",
     "output_type": "stream",
     "text": [
      "2015-02-26 21:40:00    57\n",
      "2015-02-26 21:45:00    43\n",
      "2015-02-26 21:50:00    55\n",
      "2015-02-26 21:55:00    64\n",
      "2015-02-26 22:00:00    93\n",
      "                       ..\n",
      "2015-04-04 23:40:00    40\n",
      "2015-04-04 23:45:00    44\n",
      "2015-04-04 23:50:00    61\n",
      "2015-04-04 23:55:00    59\n",
      "2015-04-05 00:00:00    59\n",
      "Freq: 5T, Length: 10685, dtype: int64\n",
      "<class 'gluonts.model.predictor.RepresentableBlockPredictor'>\n",
      "<class 'pandas.core.series.Series'>\n"
     ]
    }
   ],
   "source": [
    "print(series)\n",
    "print(type(predictor))\n",
    "print(type(series))"
   ]
  },
  {
   "cell_type": "code",
   "execution_count": 115,
   "metadata": {},
   "outputs": [
    {
     "ename": "AttributeError",
     "evalue": "'generator' object has no attribute 'shape'",
     "output_type": "error",
     "traceback": [
      "\u001b[1;31m---------------------------------------------------------------------------\u001b[0m",
      "\u001b[1;31mAttributeError\u001b[0m                            Traceback (most recent call last)",
      "\u001b[1;32m<ipython-input-115-e5e1b85b4b4c>\u001b[0m in \u001b[0;36m<module>\u001b[1;34m\u001b[0m\n\u001b[1;32m----> 1\u001b[1;33m \u001b[0mexplainer\u001b[0m \u001b[1;33m=\u001b[0m \u001b[0mshap\u001b[0m\u001b[1;33m.\u001b[0m\u001b[0mKernelExplainer\u001b[0m\u001b[1;33m(\u001b[0m\u001b[0mf\u001b[0m\u001b[1;33m,\u001b[0m \u001b[0mseries\u001b[0m\u001b[1;33m)\u001b[0m\u001b[1;33m\u001b[0m\u001b[1;33m\u001b[0m\u001b[0m\n\u001b[0m\u001b[0;32m      2\u001b[0m \u001b[1;33m\u001b[0m\u001b[0m\n\u001b[0;32m      3\u001b[0m \u001b[0mshap_values\u001b[0m \u001b[1;33m=\u001b[0m \u001b[0mexplainer\u001b[0m\u001b[1;33m.\u001b[0m\u001b[0mshap_values\u001b[0m\u001b[1;33m(\u001b[0m\u001b[0mtest_data_shap\u001b[0m\u001b[1;33m)\u001b[0m\u001b[1;33m\u001b[0m\u001b[1;33m\u001b[0m\u001b[0m\n\u001b[0;32m      4\u001b[0m \u001b[1;33m\u001b[0m\u001b[0m\n\u001b[0;32m      5\u001b[0m \u001b[1;31m# plot the SHAP values for the Time-series output of the first instance\u001b[0m\u001b[1;33m\u001b[0m\u001b[1;33m\u001b[0m\u001b[1;33m\u001b[0m\u001b[0m\n",
      "\u001b[1;32m~\\AppData\\Local\\Packages\\PythonSoftwareFoundation.Python.3.8_qbz5n2kfra8p0\\LocalCache\\local-packages\\Python38\\site-packages\\shap\\explainers\\_kernel.py\u001b[0m in \u001b[0;36m__init__\u001b[1;34m(self, model, data, link, **kwargs)\u001b[0m\n\u001b[0;32m     62\u001b[0m         \u001b[0mself\u001b[0m\u001b[1;33m.\u001b[0m\u001b[0mkeep_index_ordered\u001b[0m \u001b[1;33m=\u001b[0m \u001b[0mkwargs\u001b[0m\u001b[1;33m.\u001b[0m\u001b[0mget\u001b[0m\u001b[1;33m(\u001b[0m\u001b[1;34m\"keep_index_ordered\"\u001b[0m\u001b[1;33m,\u001b[0m \u001b[1;32mFalse\u001b[0m\u001b[1;33m)\u001b[0m\u001b[1;33m\u001b[0m\u001b[1;33m\u001b[0m\u001b[0m\n\u001b[0;32m     63\u001b[0m         \u001b[0mself\u001b[0m\u001b[1;33m.\u001b[0m\u001b[0mdata\u001b[0m \u001b[1;33m=\u001b[0m \u001b[0mconvert_to_data\u001b[0m\u001b[1;33m(\u001b[0m\u001b[0mdata\u001b[0m\u001b[1;33m,\u001b[0m \u001b[0mkeep_index\u001b[0m\u001b[1;33m=\u001b[0m\u001b[0mself\u001b[0m\u001b[1;33m.\u001b[0m\u001b[0mkeep_index\u001b[0m\u001b[1;33m)\u001b[0m\u001b[1;33m\u001b[0m\u001b[1;33m\u001b[0m\u001b[0m\n\u001b[1;32m---> 64\u001b[1;33m         \u001b[0mmodel_null\u001b[0m \u001b[1;33m=\u001b[0m \u001b[0mmatch_model_to_data\u001b[0m\u001b[1;33m(\u001b[0m\u001b[0mself\u001b[0m\u001b[1;33m.\u001b[0m\u001b[0mmodel\u001b[0m\u001b[1;33m,\u001b[0m \u001b[0mself\u001b[0m\u001b[1;33m.\u001b[0m\u001b[0mdata\u001b[0m\u001b[1;33m)\u001b[0m\u001b[1;33m\u001b[0m\u001b[1;33m\u001b[0m\u001b[0m\n\u001b[0m\u001b[0;32m     65\u001b[0m \u001b[1;33m\u001b[0m\u001b[0m\n\u001b[0;32m     66\u001b[0m         \u001b[1;31m# enforce our current input type limitations\u001b[0m\u001b[1;33m\u001b[0m\u001b[1;33m\u001b[0m\u001b[1;33m\u001b[0m\u001b[0m\n",
      "\u001b[1;32m~\\AppData\\Local\\Packages\\PythonSoftwareFoundation.Python.3.8_qbz5n2kfra8p0\\LocalCache\\local-packages\\Python38\\site-packages\\shap\\utils\\_legacy.py\u001b[0m in \u001b[0;36mmatch_model_to_data\u001b[1;34m(model, data)\u001b[0m\n\u001b[0;32m    116\u001b[0m \u001b[1;33m\u001b[0m\u001b[0m\n\u001b[0;32m    117\u001b[0m     \u001b[1;32mif\u001b[0m \u001b[0mmodel\u001b[0m\u001b[1;33m.\u001b[0m\u001b[0mout_names\u001b[0m \u001b[1;32mis\u001b[0m \u001b[1;32mNone\u001b[0m\u001b[1;33m:\u001b[0m\u001b[1;33m\u001b[0m\u001b[1;33m\u001b[0m\u001b[0m\n\u001b[1;32m--> 118\u001b[1;33m         \u001b[1;32mif\u001b[0m \u001b[0mlen\u001b[0m\u001b[1;33m(\u001b[0m\u001b[0mout_val\u001b[0m\u001b[1;33m.\u001b[0m\u001b[0mshape\u001b[0m\u001b[1;33m)\u001b[0m \u001b[1;33m==\u001b[0m \u001b[1;36m1\u001b[0m\u001b[1;33m:\u001b[0m\u001b[1;33m\u001b[0m\u001b[1;33m\u001b[0m\u001b[0m\n\u001b[0m\u001b[0;32m    119\u001b[0m             \u001b[0mmodel\u001b[0m\u001b[1;33m.\u001b[0m\u001b[0mout_names\u001b[0m \u001b[1;33m=\u001b[0m \u001b[1;33m[\u001b[0m\u001b[1;34m\"output value\"\u001b[0m\u001b[1;33m]\u001b[0m\u001b[1;33m\u001b[0m\u001b[1;33m\u001b[0m\u001b[0m\n\u001b[0;32m    120\u001b[0m         \u001b[1;32melse\u001b[0m\u001b[1;33m:\u001b[0m\u001b[1;33m\u001b[0m\u001b[1;33m\u001b[0m\u001b[0m\n",
      "\u001b[1;31mAttributeError\u001b[0m: 'generator' object has no attribute 'shape'"
     ]
    }
   ],
   "source": [
    "explainer = shap.KernelExplainer(f, series)\n",
    "\n",
    "shap_values = explainer.shap_values(test_data_shap)\n",
    "\n",
    "# plot the SHAP values for the Time-series output of the first instance\n",
    "shap.force_plot(explainer.expected_value[0], shap_values[0][0,:], X_test.iloc[0,:], link=\"identity\")"
   ]
  },
  {
   "cell_type": "code",
   "execution_count": null,
   "metadata": {},
   "outputs": [],
   "source": []
  },
  {
   "cell_type": "code",
   "execution_count": null,
   "metadata": {},
   "outputs": [],
   "source": []
  }
 ],
 "metadata": {
  "kernelspec": {
   "display_name": "Python 3",
   "language": "python",
   "name": "python3"
  },
  "language_info": {
   "codemirror_mode": {
    "name": "ipython",
    "version": 3
   },
   "file_extension": ".py",
   "mimetype": "text/x-python",
   "name": "python",
   "nbconvert_exporter": "python",
   "pygments_lexer": "ipython3",
   "version": "3.8.6"
  }
 },
 "nbformat": 4,
 "nbformat_minor": 4
}
